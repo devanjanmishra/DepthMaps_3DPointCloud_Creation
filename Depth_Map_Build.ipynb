{
 "cells": [
  {
   "cell_type": "code",
   "execution_count": 1,
   "metadata": {},
   "outputs": [],
   "source": [
    "import os\n",
    "import os.path as osp\n",
    "import cv2\n",
    "import time\n",
    "import sys\n",
    "\n",
    "import argparse\n",
    "import mmcv\n",
    "import torch\n",
    "import torch.distributed as dist\n",
    "import torch.multiprocessing as mp\n",
    "\n",
    "import torch\n",
    "import torch.nn.functional as F\n",
    "import logging\n",
    "import os\n",
    "import os.path as osp\n",
    "import cv2\n",
    "from tqdm import tqdm\n",
    "import numpy as np\n",
    "from PIL import Image\n",
    "import matplotlib.pyplot as plt"
   ]
  },
  {
   "cell_type": "code",
   "execution_count": 2,
   "metadata": {},
   "outputs": [],
   "source": [
    "import os\n",
    "import torch\n",
    "\"\"\n",
    "try:\n",
    "    from mmcv.utils import Config, DictAction\n",
    "except:\n",
    "    from mmengine import Config, DictAction"
   ]
  },
  {
   "cell_type": "code",
   "execution_count": 4,
   "metadata": {},
   "outputs": [],
   "source": [
    "\n",
    "import torch\n",
    "import torch.nn.functional as F\n",
    "import logging\n",
    "import os\n",
    "import os.path as osp\n",
    "\n",
    "#os.system('nvidia-smi')\n",
    "\n",
    "# import cupy\n",
    "\n",
    "import sys\n",
    "# CODE_SPACE=os.path.dirname(os.path.dirname(os.path.abspath(__file__)))\n",
    "sys.path.append(\"hf_build/Metric3D/mono/\")\n",
    "try:\n",
    "    from mmcv.utils import Config, DictAction\n",
    "except:\n",
    "    from mmengine import Config, DictAction\n",
    "from mono.utils.logger import setup_logger\n",
    "import glob\n",
    "from mono.model.monodepth_model import get_configured_monodepth_model\n",
    "from mono.utils.running import load_ckpt\n",
    "from mono.utils.do_test import transform_test_data_scalecano, get_prediction\n",
    "from mono.utils.custom_data import load_from_annos, load_data\n",
    "\n",
    "from mono.utils.avg_meter import MetricAverageMeter\n",
    "from mono.utils.visualization import save_val_imgs, create_html, save_raw_imgs, save_normal_val_imgs\n",
    "import cv2\n",
    "from tqdm import tqdm\n",
    "import numpy as np\n",
    "from PIL import Image, ExifTags\n",
    "import matplotlib.pyplot as plt\n",
    "\n",
    "from mono.utils.unproj_pcd import reconstruct_pcd, save_point_cloud\n",
    "from mono.utils.transform import gray_to_colormap\n",
    "from mono.utils.visualization import vis_surface_normal"
   ]
  },
  {
   "cell_type": "code",
   "execution_count": null,
   "metadata": {},
   "outputs": [],
   "source": [
    "cfg_large = Config.fromfile('./mono/configs/HourglassDecoder/vit.raft5.large.py')\n",
    "model_large = get_configured_monodepth_model(cfg_large, )\n",
    "model_large, _,  _, _ = load_ckpt('./weight/metric_depth_vit_large_800k.pth', model_large, strict_match=False)\n",
    "model_large.eval()\n",
    "\n",
    "device = \"cuda\"\n",
    "model_large.to(device)\n",
    "# model_small.to(device)\n"
   ]
  },
  {
   "cell_type": "code",
   "execution_count": 6,
   "metadata": {},
   "outputs": [],
   "source": [
    "cfg_large = Config.fromfile('./mono/configs/HourglassDecoder/vit.raft5.large.py')\n",
    "fx=1000\n",
    "fy=1000\n",
    "img=Image.open(\"IMG20240610231100.jpg\")\n",
    "cv_image = np.array(img) \n",
    "img = cv2.cvtColor(cv_image, cv2.COLOR_BGR2RGB)\n",
    "intrinsic = [fx, fy, img.shape[1]/2, img.shape[0]/2]\n",
    "rgb_input, cam_models_stacks, pad, label_scale_factor = transform_test_data_scalecano(img, intrinsic, cfg_large.data_basic)"
   ]
  },
  {
   "cell_type": "code",
   "execution_count": 7,
   "metadata": {},
   "outputs": [
    {
     "data": {
      "text/plain": [
       "tensor([[[ 0.0056,  0.0056,  0.0056,  ...,  0.0056,  0.0056,  0.0056],\n",
       "         [ 0.0056,  0.0056,  0.0056,  ...,  0.0056,  0.0056,  0.0056],\n",
       "         [ 0.0056,  0.0056,  0.0056,  ...,  0.0056,  0.0056,  0.0056],\n",
       "         ...,\n",
       "         [ 0.0056,  0.0056,  0.0056,  ...,  0.0056,  0.0056,  0.0056],\n",
       "         [ 0.0056,  0.0056,  0.0056,  ...,  0.0056,  0.0056,  0.0056],\n",
       "         [ 0.0056,  0.0056,  0.0056,  ...,  0.0056,  0.0056,  0.0056]],\n",
       "\n",
       "        [[-0.0049, -0.0049, -0.0049,  ..., -0.0049, -0.0049, -0.0049],\n",
       "         [-0.0049, -0.0049, -0.0049,  ..., -0.0049, -0.0049, -0.0049],\n",
       "         [-0.0049, -0.0049, -0.0049,  ..., -0.0049, -0.0049, -0.0049],\n",
       "         ...,\n",
       "         [-0.0049, -0.0049, -0.0049,  ..., -0.0049, -0.0049, -0.0049],\n",
       "         [-0.0049, -0.0049, -0.0049,  ..., -0.0049, -0.0049, -0.0049],\n",
       "         [-0.0049, -0.0049, -0.0049,  ..., -0.0049, -0.0049, -0.0049]],\n",
       "\n",
       "        [[ 0.0082,  0.0082,  0.0082,  ...,  0.0082,  0.0082,  0.0082],\n",
       "         [ 0.0082,  0.0082,  0.0082,  ...,  0.0082,  0.0082,  0.0082],\n",
       "         [ 0.0082,  0.0082,  0.0082,  ...,  0.0082,  0.0082,  0.0082],\n",
       "         ...,\n",
       "         [ 0.0082,  0.0082,  0.0082,  ...,  0.0082,  0.0082,  0.0082],\n",
       "         [ 0.0082,  0.0082,  0.0082,  ...,  0.0082,  0.0082,  0.0082],\n",
       "         [ 0.0082,  0.0082,  0.0082,  ...,  0.0082,  0.0082,  0.0082]]],\n",
       "       device='cuda:0')"
      ]
     },
     "execution_count": 7,
     "metadata": {},
     "output_type": "execute_result"
    }
   ],
   "source": [
    "rgb_input"
   ]
  },
  {
   "cell_type": "code",
   "execution_count": 9,
   "metadata": {},
   "outputs": [
    {
     "ename": "AttributeError",
     "evalue": "'list' object has no attribute 'shape'",
     "output_type": "error",
     "traceback": [
      "\u001b[1;31m---------------------------------------------------------------------------\u001b[0m",
      "\u001b[1;31mAttributeError\u001b[0m                            Traceback (most recent call last)",
      "Cell \u001b[1;32mIn[9], line 1\u001b[0m\n\u001b[1;32m----> 1\u001b[0m \u001b[43mcam_models_stacks\u001b[49m\u001b[38;5;241;43m.\u001b[39;49m\u001b[43mshape\u001b[49m\n",
      "\u001b[1;31mAttributeError\u001b[0m: 'list' object has no attribute 'shape'"
     ]
    }
   ],
   "source": [
    "cam_models_stacks.shape"
   ]
  },
  {
   "cell_type": "code",
   "execution_count": null,
   "metadata": {},
   "outputs": [],
   "source": []
  }
 ],
 "metadata": {
  "kernelspec": {
   "display_name": ".venv",
   "language": "python",
   "name": "python3"
  },
  "language_info": {
   "codemirror_mode": {
    "name": "ipython",
    "version": 3
   },
   "file_extension": ".py",
   "mimetype": "text/x-python",
   "name": "python",
   "nbconvert_exporter": "python",
   "pygments_lexer": "ipython3",
   "version": "3.10.11"
  }
 },
 "nbformat": 4,
 "nbformat_minor": 2
}
